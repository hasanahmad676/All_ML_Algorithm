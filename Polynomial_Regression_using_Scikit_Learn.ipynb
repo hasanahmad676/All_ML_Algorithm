{
  "cells": [
    {
      "cell_type": "markdown",
      "metadata": {
        "id": "view-in-github",
        "colab_type": "text"
      },
      "source": [
        "<a href=\"https://colab.research.google.com/github/hasanahmad676/All_ML_Algorithm/blob/main/Polynomial_Regression_using_Scikit_Learn.ipynb\" target=\"_parent\"><img src=\"https://colab.research.google.com/assets/colab-badge.svg\" alt=\"Open In Colab\"/></a>"
      ]
    },
    {
      "cell_type": "code",
      "execution_count": null,
      "metadata": {
        "id": "3Yo0dkbdQ8E6",
        "outputId": "53ee38f0-52e5-4785-970d-b97619b303fd"
      },
      "outputs": [
        {
          "data": {
            "text/html": [
              "<div>\n",
              "<style scoped>\n",
              "    .dataframe tbody tr th:only-of-type {\n",
              "        vertical-align: middle;\n",
              "    }\n",
              "\n",
              "    .dataframe tbody tr th {\n",
              "        vertical-align: top;\n",
              "    }\n",
              "\n",
              "    .dataframe thead th {\n",
              "        text-align: right;\n",
              "    }\n",
              "</style>\n",
              "<table border=\"1\" class=\"dataframe\">\n",
              "  <thead>\n",
              "    <tr style=\"text-align: right;\">\n",
              "      <th></th>\n",
              "      <th>Age</th>\n",
              "      <th>Height</th>\n",
              "    </tr>\n",
              "  </thead>\n",
              "  <tbody>\n",
              "    <tr>\n",
              "      <th>0</th>\n",
              "      <td>10</td>\n",
              "      <td>138</td>\n",
              "    </tr>\n",
              "    <tr>\n",
              "      <th>1</th>\n",
              "      <td>11</td>\n",
              "      <td>138</td>\n",
              "    </tr>\n",
              "    <tr>\n",
              "      <th>2</th>\n",
              "      <td>12</td>\n",
              "      <td>138</td>\n",
              "    </tr>\n",
              "    <tr>\n",
              "      <th>3</th>\n",
              "      <td>13</td>\n",
              "      <td>139</td>\n",
              "    </tr>\n",
              "    <tr>\n",
              "      <th>4</th>\n",
              "      <td>14</td>\n",
              "      <td>139</td>\n",
              "    </tr>\n",
              "  </tbody>\n",
              "</table>\n",
              "</div>"
            ],
            "text/plain": [
              "   Age  Height\n",
              "0   10     138\n",
              "1   11     138\n",
              "2   12     138\n",
              "3   13     139\n",
              "4   14     139"
            ]
          },
          "execution_count": 1,
          "metadata": {},
          "output_type": "execute_result"
        }
      ],
      "source": [
        "# Import necessary libraries\n",
        "import pandas as pd\n",
        "import numpy as np\n",
        "import matplotlib.pyplot as plt\n",
        "\n",
        "# Import the Height Weight Dataset\n",
        "data = pd.read_csv('Height_Weight_Dataset.csv')\n",
        "data.head()"
      ]
    },
    {
      "cell_type": "code",
      "execution_count": null,
      "metadata": {
        "id": "W7YFRwgkQ8E8"
      },
      "outputs": [],
      "source": [
        "#Store the data in the form of dependent and independent variables separately\n",
        "X = data.iloc[:, 0:1].values\n",
        "y = data.iloc[:, 1].values"
      ]
    },
    {
      "cell_type": "code",
      "execution_count": null,
      "metadata": {
        "id": "Uybka-4kQ8E9"
      },
      "outputs": [],
      "source": [
        "#Split the Dataset into Training and Test Dataset\n",
        "from sklearn.model_selection import train_test_split\n",
        "X_train, X_test, y_train, y_test = train_test_split(X, y, test_size=0.3, random_state=0)"
      ]
    },
    {
      "cell_type": "code",
      "execution_count": null,
      "metadata": {
        "id": "wj1PXD9zQ8E9",
        "outputId": "d7e5e12a-5a2a-48fd-f5d1-1aeb098d792a"
      },
      "outputs": [
        {
          "data": {
            "text/plain": [
              "LinearRegression(copy_X=True, fit_intercept=True, n_jobs=None, normalize=False)"
            ]
          },
          "execution_count": 4,
          "metadata": {},
          "output_type": "execute_result"
        }
      ],
      "source": [
        "#Fit the Simple Linear Regression Model\n",
        "from sklearn.linear_model import LinearRegression\n",
        "LinReg = LinearRegression()\n",
        "LinReg.fit(X_train, y_train)"
      ]
    },
    {
      "cell_type": "code",
      "execution_count": null,
      "metadata": {
        "id": "Or8lTKyVQ8E-",
        "outputId": "44e2395c-48c4-4d9c-ee73-d0dd4d86bfb8"
      },
      "outputs": [
        {
          "data": {
            "image/png": "[encoded data removed]",
            "text/plain": [
              "<Figure size 432x288 with 1 Axes>"
            ]
          },
          "metadata": {
            "needs_background": "light"
          },
          "output_type": "display_data"
        }
      ],
      "source": [
        "# Visualise the Linear Regression Result\n",
        "plt.scatter(X_train, y_train, color = 'green')\n",
        "\n",
        "plt.plot(X_train, LinReg.predict(X_train), color = 'blue')\n",
        "plt.title('Linear Regression')\n",
        "plt.xlabel('Age')\n",
        "plt.ylabel('Height')\n",
        "\n",
        "plt.show()"
      ]
    },
    {
      "cell_type": "code",
      "execution_count": null,
      "metadata": {
        "id": "YgvpUM-iQ8E-",
        "outputId": "60e87d61-5aae-4d87-f5f0-95ad83fa68cc"
      },
      "outputs": [
        {
          "data": {
            "text/plain": [
              "array([[1.000e+00, 1.200e+01, 1.440e+02],\n",
              "       [1.000e+00, 5.000e+01, 2.500e+03],\n",
              "       [1.000e+00, 2.100e+01, 4.410e+02],\n",
              "       [1.000e+00, 1.300e+01, 1.690e+02],\n",
              "       [1.000e+00, 6.400e+01, 4.096e+03],\n",
              "       [1.000e+00, 5.500e+01, 3.025e+03],\n",
              "       [1.000e+00, 2.000e+01, 4.000e+02],\n",
              "       [1.000e+00, 5.100e+01, 2.601e+03],\n",
              "       [1.000e+00, 5.900e+01, 3.481e+03],\n",
              "       [1.000e+00, 6.300e+01, 3.969e+03],\n",
              "       [1.000e+00, 6.700e+01, 4.489e+03],\n",
              "       [1.000e+00, 4.200e+01, 1.764e+03],\n",
              "       [1.000e+00, 2.400e+01, 5.760e+02],\n",
              "       [1.000e+00, 7.800e+01, 6.084e+03],\n",
              "       [1.000e+00, 2.900e+01, 8.410e+02],\n",
              "       [1.000e+00, 3.900e+01, 1.521e+03],\n",
              "       [1.000e+00, 6.200e+01, 3.844e+03],\n",
              "       [1.000e+00, 4.500e+01, 2.025e+03],\n",
              "       [1.000e+00, 2.800e+01, 7.840e+02],\n",
              "       [1.000e+00, 1.000e+01, 1.000e+02],\n",
              "       [1.000e+00, 2.500e+01, 6.250e+02],\n",
              "       [1.000e+00, 1.500e+01, 2.250e+02],\n",
              "       [1.000e+00, 2.600e+01, 6.760e+02],\n",
              "       [1.000e+00, 3.000e+01, 9.000e+02],\n",
              "       [1.000e+00, 7.600e+01, 5.776e+03],\n",
              "       [1.000e+00, 1.800e+01, 3.240e+02],\n",
              "       [1.000e+00, 2.300e+01, 5.290e+02],\n",
              "       [1.000e+00, 3.500e+01, 1.225e+03],\n",
              "       [1.000e+00, 4.700e+01, 2.209e+03],\n",
              "       [1.000e+00, 2.700e+01, 7.290e+02],\n",
              "       [1.000e+00, 7.000e+01, 4.900e+03],\n",
              "       [1.000e+00, 5.600e+01, 3.136e+03],\n",
              "       [1.000e+00, 7.300e+01, 5.329e+03],\n",
              "       [1.000e+00, 4.900e+01, 2.401e+03],\n",
              "       [1.000e+00, 4.800e+01, 2.304e+03],\n",
              "       [1.000e+00, 1.100e+01, 1.210e+02],\n",
              "       [1.000e+00, 6.800e+01, 4.624e+03],\n",
              "       [1.000e+00, 2.200e+01, 4.840e+02],\n",
              "       [1.000e+00, 7.100e+01, 5.041e+03],\n",
              "       [1.000e+00, 3.400e+01, 1.156e+03],\n",
              "       [1.000e+00, 1.600e+01, 2.560e+02],\n",
              "       [1.000e+00, 3.300e+01, 1.089e+03],\n",
              "       [1.000e+00, 4.600e+01, 2.116e+03],\n",
              "       [1.000e+00, 3.100e+01, 9.610e+02],\n",
              "       [1.000e+00, 1.900e+01, 3.610e+02],\n",
              "       [1.000e+00, 7.700e+01, 5.929e+03],\n",
              "       [1.000e+00, 7.400e+01, 5.476e+03],\n",
              "       [1.000e+00, 5.700e+01, 3.249e+03],\n",
              "       [1.000e+00, 5.400e+01, 2.916e+03]])"
            ]
          },
          "execution_count": 6,
          "metadata": {},
          "output_type": "execute_result"
        }
      ],
      "source": [
        "# Add the polynomial term to the equation/model\n",
        "from sklearn.preprocessing import PolynomialFeatures\n",
        "\n",
        "polynom = PolynomialFeatures(degree = 2)\n",
        "X_polynom = polynom.fit_transform(X_train)\n",
        "\n",
        "X_polynom"
      ]
    },
    {
      "cell_type": "code",
      "execution_count": null,
      "metadata": {
        "id": "4vFQt5RPQ8E-",
        "outputId": "71b7725c-6e30-438b-83f6-7ac1a059005c"
      },
      "outputs": [
        {
          "data": {
            "text/plain": [
              "LinearRegression(copy_X=True, fit_intercept=True, n_jobs=None, normalize=False)"
            ]
          },
          "execution_count": 7,
          "metadata": {},
          "output_type": "execute_result"
        }
      ],
      "source": [
        "#Fit the Polynomial Regression Model\n",
        "PolyReg = LinearRegression()\n",
        "PolyReg.fit(X_polynom, y_train)"
      ]
    },
    {
      "cell_type": "code",
      "execution_count": null,
      "metadata": {
        "id": "lxMXeahJQ8E-",
        "outputId": "91008908-6ab3-4175-b9b2-72b80c195697"
      },
      "outputs": [
        {
          "data": {
            "image/png": "[encoded data removed]",
            "text/plain": [
              "<Figure size 432x288 with 1 Axes>"
            ]
          },
          "metadata": {
            "needs_background": "light"
          },
          "output_type": "display_data"
        }
      ],
      "source": [
        "# Visualise the Polynomial Regression Results\n",
        "plt.scatter(X_train, y_train, color = 'green')\n",
        "\n",
        "plt.plot(X_train, PolyReg.predict(polynom.fit_transform(X_train)), color = 'blue')\n",
        "plt.title('Polynomial Regression')\n",
        "plt.xlabel('Age')\n",
        "plt.ylabel('Height')\n",
        "\n",
        "plt.show()"
      ]
    },
    {
      "cell_type": "code",
      "execution_count": null,
      "metadata": {
        "id": "44LOVnnGQ8E_",
        "outputId": "e743f1fc-ebc8-4f0b-e59d-484d05246dd9"
      },
      "outputs": [
        {
          "name": "stdout",
          "output_type": "stream",
          "text": [
            "R-Square Error associated with Simple Linear Regression: 0.8727873738671587\n"
          ]
        }
      ],
      "source": [
        "#Predicted Height from test dataset w.r.t Simple Linear Regression\n",
        "y_predict_slr = LinReg.predict(X_test)\n",
        "\n",
        "#Model Evaluation using R-Square for Simple Linear Regression\n",
        "from sklearn import metrics\n",
        "r_square = metrics.r2_score(y_test, y_predict_slr)\n",
        "print('R-Square Error associated with Simple Linear Regression:', r_square)"
      ]
    },
    {
      "cell_type": "code",
      "execution_count": null,
      "metadata": {
        "id": "mZDIabSsQ8E_",
        "outputId": "15e3d484-d624-4c09-df5f-d588aa17f6a9"
      },
      "outputs": [
        {
          "name": "stdout",
          "output_type": "stream",
          "text": [
            "R-Square Error associated with Polynomial Regression is: 0.9892511710983518\n"
          ]
        }
      ],
      "source": [
        "#Predicted Height from test dataset w.r.t Polynomial Regression\n",
        "y_predict_pr = PolyReg.predict(polynom.fit_transform(X_test))\n",
        "\n",
        "#Model Evaluation using R-Square for Polynomial Regression\n",
        "from sklearn import metrics\n",
        "r_square = metrics.r2_score(y_test, y_predict_pr)\n",
        "print('R-Square Error associated with Polynomial Regression is:', r_square)"
      ]
    },
    {
      "cell_type": "code",
      "execution_count": null,
      "metadata": {
        "id": "chRaUt-YQ8E_",
        "outputId": "6e4aae49-61e8-4806-f270-6ebf0ec8cd1f"
      },
      "outputs": [
        {
          "data": {
            "text/plain": [
              "array([168.52966207])"
            ]
          },
          "execution_count": 17,
          "metadata": {},
          "output_type": "execute_result"
        }
      ],
      "source": [
        "# Predicting Height based on Age using Linear Regression\n",
        "LinReg.predict([[53]])"
      ]
    },
    {
      "cell_type": "code",
      "execution_count": null,
      "metadata": {
        "id": "uMI8z3bbQ8FA",
        "outputId": "57fbe615-9121-4443-e9fb-63d841e6717d"
      },
      "outputs": [
        {
          "data": {
            "text/plain": [
              "array([162.81769144])"
            ]
          },
          "execution_count": 18,
          "metadata": {},
          "output_type": "execute_result"
        }
      ],
      "source": [
        "# Predicting Height based on Age using Polynomial Regression\n",
        "PolyReg.predict(polynom.fit_transform([[53]]))"
      ]
    },
    {
      "cell_type": "code",
      "execution_count": null,
      "metadata": {
        "id": "XTtFstc0Q8FA"
      },
      "outputs": [],
      "source": []
    }
  ],
  "metadata": {
    "kernelspec": {
      "display_name": "Python 3",
      "language": "python",
      "name": "python3"
    },
    "language_info": {
      "codemirror_mode": {
        "name": "ipython",
        "version": 3
      },
      "file_extension": ".py",
      "mimetype": "text/x-python",
      "name": "python",
      "nbconvert_exporter": "python",
      "pygments_lexer": "ipython3",
      "version": "3.6.8"
    },
    "colab": {
      "provenance": [],
      "include_colab_link": true
    }
  },
  "nbformat": 4,
  "nbformat_minor": 0
}